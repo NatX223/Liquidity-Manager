{
 "cells": [
  {
   "cell_type": "code",
   "execution_count": 9,
   "metadata": {},
   "outputs": [],
   "source": [
    "import onnx\n",
    "from sklearn.preprocessing import StandardScaler, MinMaxScaler\n",
    "import pickle \n",
    "import json "
   ]
  },
  {
   "cell_type": "code",
   "execution_count": 3,
   "metadata": {},
   "outputs": [],
   "source": [
    "# load the pickle to get information about preprocessing"
   ]
  },
  {
   "cell_type": "code",
   "execution_count": 4,
   "metadata": {},
   "outputs": [],
   "source": [
    "with open('scaler_in.pkl','rb') as file:\n",
    "    scaler_in = pickle.load(file)\n",
    "in_min_vals = scaler_in.data_min_\n",
    "in_max_vals = scaler_in.data_max_"
   ]
  },
  {
   "cell_type": "code",
   "execution_count": 5,
   "metadata": {},
   "outputs": [
    {
     "data": {
      "text/plain": [
       "array([-7.46963807e+08, -7.46393943e+08, -3.50003095e+08, -8.13667982e+07,\n",
       "        6.00000000e+00,  3.32123234e+00])"
      ]
     },
     "execution_count": 5,
     "metadata": {},
     "output_type": "execute_result"
    }
   ],
   "source": [
    "in_min_vals"
   ]
  },
  {
   "cell_type": "code",
   "execution_count": 6,
   "metadata": {},
   "outputs": [
    {
     "data": {
      "text/plain": [
       "array([7.68353088e+08, 7.67676468e+08, 2.72077171e+08, 9.42097663e+07,\n",
       "       1.05610000e+04, 1.78150907e+06])"
      ]
     },
     "execution_count": 6,
     "metadata": {},
     "output_type": "execute_result"
    }
   ],
   "source": [
    "in_max_vals"
   ]
  },
  {
   "cell_type": "code",
   "execution_count": 12,
   "metadata": {},
   "outputs": [],
   "source": [
    "in_processing_dict = {\n",
    "    \"min_vals\":list(in_min_vals),\n",
    "    \"max_vals\":list(in_max_vals)\n",
    "}"
   ]
  },
  {
   "cell_type": "code",
   "execution_count": 13,
   "metadata": {},
   "outputs": [],
   "source": [
    "with open('processing/in_processing.json','w') as json_file:\n",
    "    json.dump(in_processing_dict,json_file)"
   ]
  },
  {
   "cell_type": "code",
   "execution_count": 17,
   "metadata": {},
   "outputs": [],
   "source": [
    "with open('scaler_out.pkl','rb') as file:\n",
    "    scaler_out = pickle.load(file)\n",
    "in_min_vals = scaler_out.data_min_\n",
    "in_max_vals = scaler_out.data_max_"
   ]
  },
  {
   "cell_type": "code",
   "execution_count": 18,
   "metadata": {},
   "outputs": [],
   "source": [
    "out_processing_dict = {\n",
    "    \"min_vals\":list(in_min_vals),\n",
    "    \"max_vals\":list(in_max_vals)\n",
    "}"
   ]
  },
  {
   "cell_type": "code",
   "execution_count": 19,
   "metadata": {},
   "outputs": [],
   "source": [
    "with open('processing/out_processing.json','w') as json_file:\n",
    "    json.dump(out_processing_dict,json_file)"
   ]
  },
  {
   "cell_type": "code",
   "execution_count": null,
   "metadata": {},
   "outputs": [],
   "source": []
  }
 ],
 "metadata": {
  "kernelspec": {
   "display_name": "poolenv",
   "language": "python",
   "name": "python3"
  },
  "language_info": {
   "codemirror_mode": {
    "name": "ipython",
    "version": 3
   },
   "file_extension": ".py",
   "mimetype": "text/x-python",
   "name": "python",
   "nbconvert_exporter": "python",
   "pygments_lexer": "ipython3",
   "version": "3.10.14"
  }
 },
 "nbformat": 4,
 "nbformat_minor": 2
}
